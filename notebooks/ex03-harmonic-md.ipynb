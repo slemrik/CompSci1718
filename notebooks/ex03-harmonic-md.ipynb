{
 "cells": [
  {
   "cell_type": "code",
   "execution_count": 16,
   "metadata": {
    "collapsed": true
   },
   "outputs": [],
   "source": [
    "%matplotlib inline\n",
    "import matplotlib.pyplot as plt\n",
    "import numpy as np\n",
    "from time import time"
   ]
  },
  {
   "cell_type": "code",
   "execution_count": 17,
   "metadata": {
    "collapsed": true
   },
   "outputs": [],
   "source": [
    "def pot(r):\n",
    "    return (r[0]**2 + r[1]**2)/2"
   ]
  },
  {
   "cell_type": "code",
   "execution_count": 29,
   "metadata": {
    "collapsed": true
   },
   "outputs": [],
   "source": [
    "def pot_grad(r):\n",
    "    return r"
   ]
  },
  {
   "cell_type": "code",
   "execution_count": 30,
   "metadata": {},
   "outputs": [
    {
     "data": {
      "text/plain": [
       "array([-0.59495663,  1.90285943])"
      ]
     },
     "execution_count": 30,
     "metadata": {},
     "output_type": "execute_result"
    }
   ],
   "source": [
    "pot_grad(np.random.randn(2))"
   ]
  },
  {
   "cell_type": "code",
   "execution_count": 103,
   "metadata": {},
   "outputs": [],
   "source": [
    "def velocity_Verlet(steps, time=1.0, m=1.0):\n",
    "    \n",
    "    r = np.zeros((steps,2))\n",
    "    r[0] = np.random.randn(2)\n",
    "\n",
    "    p = np.zeros((steps,2))\n",
    "    p[0] = np.random.randn(2)\n",
    "\n",
    "    dt = time/steps\n",
    "    \n",
    "    for i in range(steps-1):\n",
    "        \n",
    "        r[i+1] = r[i] + dt/m*p[i] - dt**2/(2*m)*pot_grad(r[i])\n",
    "        p[i+1] = p[i] - dt/2*(pot_grad(r[i])+pot_grad(r[i+1]))\n",
    "\n",
    "    return r, p"
   ]
  },
  {
   "cell_type": "code",
   "execution_count": 110,
   "metadata": {},
   "outputs": [
    {
     "name": "stdout",
     "output_type": "stream",
     "text": [
      "0.11362266540527344\n"
     ]
    },
    {
     "data": {
      "image/png": "[encoded data removed]",
      "text/plain": [
       "<matplotlib.figure.Figure at 0x119141908>"
      ]
     },
     "metadata": {},
     "output_type": "display_data"
    },
    {
     "data": {
      "image/png": "[encoded data removed]",
      "text/plain": [
       "<matplotlib.figure.Figure at 0x119184780>"
      ]
     },
     "metadata": {},
     "output_type": "display_data"
    }
   ],
   "source": [
    "start = time()\n",
    "r,p = velocity_Verlet(10000, time=500)\n",
    "print(time()-start)\n",
    "\n",
    "plt.plot(r[0,0],r[0,1],'*')\n",
    "plt.plot(r[:,0],r[:,1],'-')\n",
    "plt.ylabel('y-component')\n",
    "plt.xlabel('x-component')\n",
    "plt.show()\n",
    "\n",
    "plt.plot(p[0,0],p[0,1],'*')\n",
    "plt.plot(p[:,0],p[:,1],'-')\n",
    "plt.ylabel('y-component')\n",
    "plt.xlabel('x-component')\n",
    "plt.show()"
   ]
  },
  {
   "cell_type": "code",
   "execution_count": 96,
   "metadata": {},
   "outputs": [
    {
     "name": "stdout",
     "output_type": "stream",
     "text": [
      "[-0.08998515 -0.40554187]\n"
     ]
    }
   ],
   "source": [
    "print(r[0])"
   ]
  },
  {
   "cell_type": "code",
   "execution_count": null,
   "metadata": {
    "collapsed": true
   },
   "outputs": [],
   "source": []
  }
 ],
 "metadata": {
  "kernelspec": {
   "display_name": "Python 3",
   "language": "python",
   "name": "python3"
  },
  "language_info": {
   "codemirror_mode": {
    "name": "ipython",
    "version": 3
   },
   "file_extension": ".py",
   "mimetype": "text/x-python",
   "name": "python",
   "nbconvert_exporter": "python",
   "pygments_lexer": "ipython3",
   "version": "3.6.2"
  }
 },
 "nbformat": 4,
 "nbformat_minor": 2
}
